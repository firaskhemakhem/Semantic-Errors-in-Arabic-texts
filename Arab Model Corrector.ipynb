{
 "cells": [
  {
   "cell_type": "code",
   "execution_count": 1,
   "id": "23c672f9-cbb4-47cc-be9c-f6ad3ba1bfdc",
   "metadata": {
    "scrolled": true,
    "tags": []
   },
   "outputs": [],
   "source": [
    "#!pip install wordcloud\n",
    "#!pip install fasttext"
   ]
  },
  {
   "cell_type": "code",
   "execution_count": 1,
   "id": "c303d2f7-3c8e-4304-ad05-2c0955489a19",
   "metadata": {},
   "outputs": [
    {
     "name": "stderr",
     "output_type": "stream",
     "text": [
      "[nltk_data] Downloading package stopwords to\n",
      "[nltk_data]     C:\\Users\\firas\\AppData\\Roaming\\nltk_data...\n",
      "[nltk_data]   Package stopwords is already up-to-date!\n"
     ]
    }
   ],
   "source": [
    "import warnings\n",
    "warnings.filterwarnings(\"ignore\")\n",
    "\n",
    "import os\n",
    "import random\n",
    "import numpy as np\n",
    "from scipy.sparse import csr_matrix\n",
    "import pandas as pd\n",
    "import json\n",
    "\n",
    "from wordcloud import WordCloud\n",
    "import matplotlib.pyplot as plt\n",
    "import seaborn as sns \n",
    "import matplotlib.cm as cm\n",
    "from matplotlib import rcParams\n",
    "\n",
    "import nltk \n",
    "nltk.download('stopwords')\n",
    "from nltk.corpus import stopwords\n",
    "from nltk.tokenize import word_tokenize\n",
    "from nltk.tokenize import RegexpTokenizer\n",
    "from nltk.stem.isri import ISRIStemmer\n",
    "from collections import Counter \n",
    "import itertools\n",
    "import re\n",
    "import string\n",
    "\n",
    "from sklearn.feature_extraction.text import TfidfVectorizer\n",
    "from sklearn import preprocessing\n",
    "\n",
    "import fasttext"
   ]
  },
  {
   "cell_type": "code",
   "execution_count": 4,
   "id": "2e05e301-ad3f-49d2-acb5-060ec2989e6e",
   "metadata": {},
   "outputs": [],
   "source": [
    "df = pd.read_csv(\"arabic_dataset_classifiction.csv\")"
   ]
  },
  {
   "cell_type": "code",
   "execution_count": 5,
   "id": "d99f4d59-e5c9-4ed7-8d7f-18e045e228ed",
   "metadata": {},
   "outputs": [
    {
     "data": {
      "text/html": [
       "<div>\n",
       "<style scoped>\n",
       "    .dataframe tbody tr th:only-of-type {\n",
       "        vertical-align: middle;\n",
       "    }\n",
       "\n",
       "    .dataframe tbody tr th {\n",
       "        vertical-align: top;\n",
       "    }\n",
       "\n",
       "    .dataframe thead th {\n",
       "        text-align: right;\n",
       "    }\n",
       "</style>\n",
       "<table border=\"1\" class=\"dataframe\">\n",
       "  <thead>\n",
       "    <tr style=\"text-align: right;\">\n",
       "      <th></th>\n",
       "      <th>text</th>\n",
       "      <th>targe</th>\n",
       "    </tr>\n",
       "  </thead>\n",
       "  <tbody>\n",
       "    <tr>\n",
       "      <th>0</th>\n",
       "      <td>بين أستوديوهات ورزازات وصحراء مرزوكة وآثار ولي...</td>\n",
       "      <td>0</td>\n",
       "    </tr>\n",
       "    <tr>\n",
       "      <th>1</th>\n",
       "      <td>قررت النجمة الأمريكية أوبرا وينفري ألا يقتصر ع...</td>\n",
       "      <td>0</td>\n",
       "    </tr>\n",
       "    <tr>\n",
       "      <th>2</th>\n",
       "      <td>أخبارنا المغربية الوزاني تصوير الشملالي ألهب ا...</td>\n",
       "      <td>0</td>\n",
       "    </tr>\n",
       "    <tr>\n",
       "      <th>3</th>\n",
       "      <td>اخبارنا المغربية قال ابراهيم الراشدي محامي سعد...</td>\n",
       "      <td>0</td>\n",
       "    </tr>\n",
       "    <tr>\n",
       "      <th>4</th>\n",
       "      <td>تزال صناعة الجلود في المغرب تتبع الطريقة التقل...</td>\n",
       "      <td>0</td>\n",
       "    </tr>\n",
       "  </tbody>\n",
       "</table>\n",
       "</div>"
      ],
      "text/plain": [
       "                                                text  targe\n",
       "0  بين أستوديوهات ورزازات وصحراء مرزوكة وآثار ولي...      0\n",
       "1  قررت النجمة الأمريكية أوبرا وينفري ألا يقتصر ع...      0\n",
       "2  أخبارنا المغربية الوزاني تصوير الشملالي ألهب ا...      0\n",
       "3  اخبارنا المغربية قال ابراهيم الراشدي محامي سعد...      0\n",
       "4  تزال صناعة الجلود في المغرب تتبع الطريقة التقل...      0"
      ]
     },
     "execution_count": 5,
     "metadata": {},
     "output_type": "execute_result"
    }
   ],
   "source": [
    "df.head()"
   ]
  },
  {
   "cell_type": "code",
   "execution_count": 10,
   "id": "dbd8a025-9c87-4890-9217-76318a407865",
   "metadata": {},
   "outputs": [
    {
     "name": "stdout",
     "output_type": "stream",
     "text": [
      "<class 'pandas.core.frame.DataFrame'>\n",
      "RangeIndex: 111728 entries, 0 to 111727\n",
      "Data columns (total 2 columns):\n",
      " #   Column  Non-Null Count   Dtype \n",
      "---  ------  --------------   ----- \n",
      " 0   text    108789 non-null  object\n",
      " 1   targe   111728 non-null  int64 \n",
      "dtypes: int64(1), object(1)\n",
      "memory usage: 1.7+ MB\n"
     ]
    }
   ],
   "source": [
    "df.info()"
   ]
  },
  {
   "cell_type": "markdown",
   "id": "432d3025-51f5-472e-97a1-d4226de2ed93",
   "metadata": {},
   "source": [
    "## Pretraitement "
   ]
  },
  {
   "cell_type": "code",
   "execution_count": 6,
   "id": "8bb0c116-5b37-4cd7-a900-e835c8418094",
   "metadata": {},
   "outputs": [
    {
     "name": "stdout",
     "output_type": "stream",
     "text": [
      "2939\n",
      "0\n"
     ]
    }
   ],
   "source": [
    "print(np.sum(df.isnull().any(axis=1)))\n",
    "\n",
    "clean_df = df.dropna()\n",
    "print(np.sum(clean_df.isnull().any(axis=1)))"
   ]
  },
  {
   "cell_type": "code",
   "execution_count": 7,
   "id": "0a282fcd-6fed-488c-bbf7-603f5aa5465a",
   "metadata": {},
   "outputs": [
    {
     "name": "stdout",
     "output_type": "stream",
     "text": [
      "text     True\n",
      "targe    True\n",
      "dtype: bool\n"
     ]
    }
   ],
   "source": [
    "print (df.notnull().any(axis = 0))"
   ]
  },
  {
   "cell_type": "code",
   "execution_count": 8,
   "id": "0e298724-4db6-4390-9866-3e3382909010",
   "metadata": {},
   "outputs": [],
   "source": [
    "def remove_hashtag(df, col = 'text'):\n",
    "    for letter in r'#.][!XR':\n",
    "        df[col] = df[col].astype(str).str.replace(letter,'', regex=True)"
   ]
  },
  {
   "cell_type": "code",
   "execution_count": 11,
   "id": "61383782-1df0-4548-965f-1d353cb160f9",
   "metadata": {},
   "outputs": [
    {
     "data": {
      "text/html": [
       "<div>\n",
       "<style scoped>\n",
       "    .dataframe tbody tr th:only-of-type {\n",
       "        vertical-align: middle;\n",
       "    }\n",
       "\n",
       "    .dataframe tbody tr th {\n",
       "        vertical-align: top;\n",
       "    }\n",
       "\n",
       "    .dataframe thead th {\n",
       "        text-align: right;\n",
       "    }\n",
       "</style>\n",
       "<table border=\"1\" class=\"dataframe\">\n",
       "  <thead>\n",
       "    <tr style=\"text-align: right;\">\n",
       "      <th></th>\n",
       "      <th>text</th>\n",
       "      <th>targe</th>\n",
       "    </tr>\n",
       "  </thead>\n",
       "  <tbody>\n",
       "    <tr>\n",
       "      <th>0</th>\n",
       "      <td>بين أستوديوهات ورزازات وصحراء مرزوكة وآثار ولي...</td>\n",
       "      <td>0</td>\n",
       "    </tr>\n",
       "    <tr>\n",
       "      <th>1</th>\n",
       "      <td>قررت النجمة الأمريكية أوبرا وينفري ألا يقتصر ع...</td>\n",
       "      <td>0</td>\n",
       "    </tr>\n",
       "    <tr>\n",
       "      <th>2</th>\n",
       "      <td>أخبارنا المغربية الوزاني تصوير الشملالي ألهب ا...</td>\n",
       "      <td>0</td>\n",
       "    </tr>\n",
       "    <tr>\n",
       "      <th>3</th>\n",
       "      <td>اخبارنا المغربية قال ابراهيم الراشدي محامي سعد...</td>\n",
       "      <td>0</td>\n",
       "    </tr>\n",
       "    <tr>\n",
       "      <th>4</th>\n",
       "      <td>تزال صناعة الجلود في المغرب تتبع الطريقة التقل...</td>\n",
       "      <td>0</td>\n",
       "    </tr>\n",
       "    <tr>\n",
       "      <th>...</th>\n",
       "      <td>...</td>\n",
       "      <td>...</td>\n",
       "    </tr>\n",
       "    <tr>\n",
       "      <th>111723</th>\n",
       "      <td>اللاعب تأخر في العودة إلى التداريب والمدرب غاض...</td>\n",
       "      <td>4</td>\n",
       "    </tr>\n",
       "    <tr>\n",
       "      <th>111724</th>\n",
       "      <td>المشرف العام لحسنية أكادير قال إنه سيغادر الفر...</td>\n",
       "      <td>4</td>\n",
       "    </tr>\n",
       "    <tr>\n",
       "      <th>111725</th>\n",
       "      <td>نسب إليه نتائج الوداد وصحوة الرجاء وآخر صيحاته...</td>\n",
       "      <td>4</td>\n",
       "    </tr>\n",
       "    <tr>\n",
       "      <th>111726</th>\n",
       "      <td>ستحتضن الرباط في الفترة مابين يوليوز المقبل دو...</td>\n",
       "      <td>4</td>\n",
       "    </tr>\n",
       "    <tr>\n",
       "      <th>111727</th>\n",
       "      <td>رضخ أحمد أهمو رئيس أمل تيزنيت لكرة القدم لضغوط...</td>\n",
       "      <td>4</td>\n",
       "    </tr>\n",
       "  </tbody>\n",
       "</table>\n",
       "<p>108789 rows × 2 columns</p>\n",
       "</div>"
      ],
      "text/plain": [
       "                                                     text  targe\n",
       "0       بين أستوديوهات ورزازات وصحراء مرزوكة وآثار ولي...      0\n",
       "1       قررت النجمة الأمريكية أوبرا وينفري ألا يقتصر ع...      0\n",
       "2       أخبارنا المغربية الوزاني تصوير الشملالي ألهب ا...      0\n",
       "3       اخبارنا المغربية قال ابراهيم الراشدي محامي سعد...      0\n",
       "4       تزال صناعة الجلود في المغرب تتبع الطريقة التقل...      0\n",
       "...                                                   ...    ...\n",
       "111723  اللاعب تأخر في العودة إلى التداريب والمدرب غاض...      4\n",
       "111724  المشرف العام لحسنية أكادير قال إنه سيغادر الفر...      4\n",
       "111725  نسب إليه نتائج الوداد وصحوة الرجاء وآخر صيحاته...      4\n",
       "111726  ستحتضن الرباط في الفترة مابين يوليوز المقبل دو...      4\n",
       "111727  رضخ أحمد أهمو رئيس أمل تيزنيت لكرة القدم لضغوط...      4\n",
       "\n",
       "[108789 rows x 2 columns]"
      ]
     },
     "execution_count": 11,
     "metadata": {},
     "output_type": "execute_result"
    }
   ],
   "source": [
    "remove_hashtag(clean_df)\n",
    "clean_df"
   ]
  },
  {
   "cell_type": "markdown",
   "id": "80495059-e1d3-44d5-b731-51484ead1671",
   "metadata": {},
   "source": [
    "### Punctuation tretment"
   ]
  },
  {
   "cell_type": "code",
   "execution_count": 12,
   "id": "690a7088-0cd4-420b-9d14-7af287bac6dc",
   "metadata": {},
   "outputs": [],
   "source": [
    "arabic_punctuations = '''`÷×؛<>_()*&^%][ـ،/:\"؟.,'{}~¦+|!”…“–ـ'''\n",
    "english_punctuations = string.punctuation\n",
    "punctuations_list = arabic_punctuations + english_punctuations\n",
    "\n",
    "def remove_punctuations(text):\n",
    "    translator = str.maketrans('', '', punctuations_list)\n",
    "    return text.translate(translator)"
   ]
  },
  {
   "cell_type": "markdown",
   "id": "c7de8e95-1e4c-42fa-844c-4a665d83f879",
   "metadata": {},
   "source": [
    "### Normalize"
   ]
  },
  {
   "cell_type": "code",
   "execution_count": 13,
   "id": "ae803bb9-afbc-487e-afd4-b201773bad4b",
   "metadata": {},
   "outputs": [],
   "source": [
    "def normalize_arabic(text):\n",
    "    text = re.sub(\"[إأآا]\", \"ا\", text)\n",
    "    text = re.sub(\"ى\", \"ي\", text)\n",
    "    text = re.sub(\"ة\", \"ه\", text)\n",
    "    text = re.sub(\"گ\", \"ك\", text)\n",
    "    return text"
   ]
  },
  {
   "cell_type": "markdown",
   "id": "8ab2435a-6130-4d12-ae8b-b2f1f349af62",
   "metadata": {},
   "source": [
    "### Remove repetitions"
   ]
  },
  {
   "cell_type": "code",
   "execution_count": 14,
   "id": "9839f567-bff2-4b64-87f2-bd0ce6cc8434",
   "metadata": {},
   "outputs": [],
   "source": [
    "def remove_repeating_char(text):\n",
    "    return re.sub(r'(.)\\1+', r'\\1', text)"
   ]
  },
  {
   "cell_type": "code",
   "execution_count": 15,
   "id": "2a4dd592-da23-4d23-8306-20956fa35182",
   "metadata": {},
   "outputs": [
    {
     "data": {
      "text/html": [
       "<div>\n",
       "<style scoped>\n",
       "    .dataframe tbody tr th:only-of-type {\n",
       "        vertical-align: middle;\n",
       "    }\n",
       "\n",
       "    .dataframe tbody tr th {\n",
       "        vertical-align: top;\n",
       "    }\n",
       "\n",
       "    .dataframe thead th {\n",
       "        text-align: right;\n",
       "    }\n",
       "</style>\n",
       "<table border=\"1\" class=\"dataframe\">\n",
       "  <thead>\n",
       "    <tr style=\"text-align: right;\">\n",
       "      <th></th>\n",
       "      <th>text</th>\n",
       "      <th>targe</th>\n",
       "    </tr>\n",
       "  </thead>\n",
       "  <tbody>\n",
       "    <tr>\n",
       "      <th>0</th>\n",
       "      <td>بين استوديوهات ورزازات وصحراء مرزوكه واثار ولي...</td>\n",
       "      <td>0</td>\n",
       "    </tr>\n",
       "    <tr>\n",
       "      <th>1</th>\n",
       "      <td>قرت النجمه الامريكيه اوبرا وينفري الا يقتصر عم...</td>\n",
       "      <td>0</td>\n",
       "    </tr>\n",
       "    <tr>\n",
       "      <th>2</th>\n",
       "      <td>اخبارنا المغربيه الوزاني تصوير الشملالي الهب ا...</td>\n",
       "      <td>0</td>\n",
       "    </tr>\n",
       "    <tr>\n",
       "      <th>3</th>\n",
       "      <td>اخبارنا المغربيه قال ابراهيم الراشدي محامي سعد...</td>\n",
       "      <td>0</td>\n",
       "    </tr>\n",
       "    <tr>\n",
       "      <th>4</th>\n",
       "      <td>تزال صناعه الجلود في المغرب تبع الطريقه التقلي...</td>\n",
       "      <td>0</td>\n",
       "    </tr>\n",
       "    <tr>\n",
       "      <th>...</th>\n",
       "      <td>...</td>\n",
       "      <td>...</td>\n",
       "    </tr>\n",
       "    <tr>\n",
       "      <th>111723</th>\n",
       "      <td>اعب تاخر في العوده الي التداريب والمدرب غاضب و...</td>\n",
       "      <td>4</td>\n",
       "    </tr>\n",
       "    <tr>\n",
       "      <th>111724</th>\n",
       "      <td>مشرف العام لحسنيه اكادير قال انه سيغادر الفريق...</td>\n",
       "      <td>4</td>\n",
       "    </tr>\n",
       "    <tr>\n",
       "      <th>111725</th>\n",
       "      <td>نسب اليه نتائج الوداد وصحوه الرجاء واخر صيحاته...</td>\n",
       "      <td>4</td>\n",
       "    </tr>\n",
       "    <tr>\n",
       "      <th>111726</th>\n",
       "      <td>ستحتضن الرباط في الفتره مابين يوليوز المقبل دو...</td>\n",
       "      <td>4</td>\n",
       "    </tr>\n",
       "    <tr>\n",
       "      <th>111727</th>\n",
       "      <td>رضخ احمد اهمو رئيس امل تيزنيت لكره القدم لضغوط...</td>\n",
       "      <td>4</td>\n",
       "    </tr>\n",
       "  </tbody>\n",
       "</table>\n",
       "<p>108789 rows × 2 columns</p>\n",
       "</div>"
      ],
      "text/plain": [
       "                                                     text  targe\n",
       "0       بين استوديوهات ورزازات وصحراء مرزوكه واثار ولي...      0\n",
       "1       قرت النجمه الامريكيه اوبرا وينفري الا يقتصر عم...      0\n",
       "2       اخبارنا المغربيه الوزاني تصوير الشملالي الهب ا...      0\n",
       "3       اخبارنا المغربيه قال ابراهيم الراشدي محامي سعد...      0\n",
       "4       تزال صناعه الجلود في المغرب تبع الطريقه التقلي...      0\n",
       "...                                                   ...    ...\n",
       "111723  اعب تاخر في العوده الي التداريب والمدرب غاضب و...      4\n",
       "111724  مشرف العام لحسنيه اكادير قال انه سيغادر الفريق...      4\n",
       "111725  نسب اليه نتائج الوداد وصحوه الرجاء واخر صيحاته...      4\n",
       "111726  ستحتضن الرباط في الفتره مابين يوليوز المقبل دو...      4\n",
       "111727  رضخ احمد اهمو رئيس امل تيزنيت لكره القدم لضغوط...      4\n",
       "\n",
       "[108789 rows x 2 columns]"
      ]
     },
     "execution_count": 15,
     "metadata": {},
     "output_type": "execute_result"
    }
   ],
   "source": [
    "def processDocument(doc, stemmer): \n",
    "\n",
    "    #Replace @username with empty string\n",
    "    doc = re.sub(r'@[^\\s]+', ' ', doc)\n",
    "    doc = re.sub(r'_', ' ', doc)\n",
    "    doc = re.sub(r'\\n', ' ', doc)\n",
    "    doc = re.sub(r'[a-z,A-Z]', '', doc)\n",
    "    doc = re.sub(r'\\d', '', doc)\n",
    "    #Convert www.* or https?://* to \" \"\n",
    "    doc = re.sub('((www\\.[^\\s]+)|(https?://[^\\s]+))',' ',doc)\n",
    "    #Replace #word with word\n",
    "    doc = re.sub(r'#([^\\s]+)', r'\\1', doc)\n",
    "    # remove punctuations\n",
    "    doc= remove_punctuations(doc)\n",
    "    # normalize the tweet\n",
    "    doc= normalize_arabic(doc)\n",
    "    # remove repeated letters\n",
    "    doc=remove_repeating_char(doc)\n",
    "    #stemming\n",
    "    doc = stemmer.stem(doc)\n",
    "    \n",
    "    return doc\n",
    "\n",
    "stemmer = ISRIStemmer()\n",
    "clean_df[\"text\"] = clean_df['text'].apply(lambda x: processDocument(x, stemmer))\n",
    "clean_df"
   ]
  },
  {
   "cell_type": "code",
   "execution_count": 16,
   "id": "1792d2f4-7b39-403e-9fd5-9086dbc78d4f",
   "metadata": {},
   "outputs": [
    {
     "data": {
      "text/html": [
       "<div>\n",
       "<style scoped>\n",
       "    .dataframe tbody tr th:only-of-type {\n",
       "        vertical-align: middle;\n",
       "    }\n",
       "\n",
       "    .dataframe tbody tr th {\n",
       "        vertical-align: top;\n",
       "    }\n",
       "\n",
       "    .dataframe thead th {\n",
       "        text-align: right;\n",
       "    }\n",
       "</style>\n",
       "<table border=\"1\" class=\"dataframe\">\n",
       "  <thead>\n",
       "    <tr style=\"text-align: right;\">\n",
       "      <th></th>\n",
       "      <th>text</th>\n",
       "      <th>targe</th>\n",
       "    </tr>\n",
       "  </thead>\n",
       "  <tbody>\n",
       "    <tr>\n",
       "      <th>0</th>\n",
       "      <td>[بين, استوديوهات, ورزازات, وصحراء, مرزوكه, واث...</td>\n",
       "      <td>0</td>\n",
       "    </tr>\n",
       "    <tr>\n",
       "      <th>1</th>\n",
       "      <td>[قرت, النجمه, الامريكيه, اوبرا, وينفري, الا, ي...</td>\n",
       "      <td>0</td>\n",
       "    </tr>\n",
       "    <tr>\n",
       "      <th>2</th>\n",
       "      <td>[اخبارنا, المغربيه, الوزاني, تصوير, الشملالي, ...</td>\n",
       "      <td>0</td>\n",
       "    </tr>\n",
       "    <tr>\n",
       "      <th>3</th>\n",
       "      <td>[اخبارنا, المغربيه, قال, ابراهيم, الراشدي, محا...</td>\n",
       "      <td>0</td>\n",
       "    </tr>\n",
       "    <tr>\n",
       "      <th>4</th>\n",
       "      <td>[تزال, صناعه, الجلود, في, المغرب, تبع, الطريقه...</td>\n",
       "      <td>0</td>\n",
       "    </tr>\n",
       "    <tr>\n",
       "      <th>...</th>\n",
       "      <td>...</td>\n",
       "      <td>...</td>\n",
       "    </tr>\n",
       "    <tr>\n",
       "      <th>111723</th>\n",
       "      <td>[اعب, تاخر, في, العوده, الي, التداريب, والمدرب...</td>\n",
       "      <td>4</td>\n",
       "    </tr>\n",
       "    <tr>\n",
       "      <th>111724</th>\n",
       "      <td>[مشرف, العام, لحسنيه, اكادير, قال, انه, سيغادر...</td>\n",
       "      <td>4</td>\n",
       "    </tr>\n",
       "    <tr>\n",
       "      <th>111725</th>\n",
       "      <td>[نسب, اليه, نتائج, الوداد, وصحوه, الرجاء, واخر...</td>\n",
       "      <td>4</td>\n",
       "    </tr>\n",
       "    <tr>\n",
       "      <th>111726</th>\n",
       "      <td>[ستحتضن, الرباط, في, الفتره, مابين, يوليوز, ال...</td>\n",
       "      <td>4</td>\n",
       "    </tr>\n",
       "    <tr>\n",
       "      <th>111727</th>\n",
       "      <td>[رضخ, احمد, اهمو, رئيس, امل, تيزنيت, لكره, الق...</td>\n",
       "      <td>4</td>\n",
       "    </tr>\n",
       "  </tbody>\n",
       "</table>\n",
       "<p>108789 rows × 2 columns</p>\n",
       "</div>"
      ],
      "text/plain": [
       "                                                     text  targe\n",
       "0       [بين, استوديوهات, ورزازات, وصحراء, مرزوكه, واث...      0\n",
       "1       [قرت, النجمه, الامريكيه, اوبرا, وينفري, الا, ي...      0\n",
       "2       [اخبارنا, المغربيه, الوزاني, تصوير, الشملالي, ...      0\n",
       "3       [اخبارنا, المغربيه, قال, ابراهيم, الراشدي, محا...      0\n",
       "4       [تزال, صناعه, الجلود, في, المغرب, تبع, الطريقه...      0\n",
       "...                                                   ...    ...\n",
       "111723  [اعب, تاخر, في, العوده, الي, التداريب, والمدرب...      4\n",
       "111724  [مشرف, العام, لحسنيه, اكادير, قال, انه, سيغادر...      4\n",
       "111725  [نسب, اليه, نتائج, الوداد, وصحوه, الرجاء, واخر...      4\n",
       "111726  [ستحتضن, الرباط, في, الفتره, مابين, يوليوز, ال...      4\n",
       "111727  [رضخ, احمد, اهمو, رئيس, امل, تيزنيت, لكره, الق...      4\n",
       "\n",
       "[108789 rows x 2 columns]"
      ]
     },
     "execution_count": 16,
     "metadata": {},
     "output_type": "execute_result"
    }
   ],
   "source": [
    "tokenizer = RegexpTokenizer(r'\\w+')\n",
    "clean_df[\"text\"] = clean_df[\"text\"].apply(tokenizer.tokenize)\n",
    "# print(clean_df['text'].values[0])\n",
    "clean_df"
   ]
  },
  {
   "cell_type": "code",
   "execution_count": 17,
   "id": "9bbb155c-2b51-4e6d-840b-68f1aed575b0",
   "metadata": {
    "scrolled": true,
    "tags": []
   },
   "outputs": [
    {
     "name": "stdout",
     "output_type": "stream",
     "text": [
      "إذ إذا إذما إذن أف أقل أكثر ألا إلا التي الذي الذين اللاتي اللائي اللتان اللتيا اللتين اللذان اللذين اللواتي إلى إليك إليكم إليكما إليكن أم أما أما إما أن إن إنا أنا أنت أنتم أنتما أنتن إنما إنه أنى أنى آه آها أو أولاء أولئك أوه آي أي أيها إي أين أين أينما إيه بخ بس بعد بعض بك بكم بكم بكما بكن بل بلى بما بماذا بمن بنا به بها بهم بهما بهن بي بين بيد تلك تلكم تلكما ته تي تين تينك ثم ثمة حاشا حبذا حتى حيث حيثما حين خلا دون ذا ذات ذاك ذان ذانك ذلك ذلكم ذلكما ذلكن ذه ذو ذوا ذواتا ذواتي ذي ذين ذينك ريث سوف سوى شتان عدا عسى عل على عليك عليه عما عن عند غير فإذا فإن فلا فمن في فيم فيما فيه فيها قد كأن كأنما كأي كأين كذا كذلك كل كلا كلاهما كلتا كلما كليكما كليهما كم كم كما كي كيت كيف كيفما لا لاسيما لدى لست لستم لستما لستن لسن لسنا لعل لك لكم لكما لكن لكنما لكي لكيلا لم لما لن لنا له لها لهم لهما لهن لو لولا لوما لي لئن ليت ليس ليسا ليست ليستا ليسوا ما ماذا متى مذ مع مما ممن من منه منها منذ مه مهما نحن نحو نعم ها هاتان هاته هاتي هاتين هاك هاهنا هذا هذان هذه هذي هذين هكذا هل هلا هم هما هن هنا هناك هنالك هو هؤلاء هي هيا هيت هيهات والذي والذين وإذ وإذا وإن ولا ولكن ولو وما ومن وهو يا أبٌ أخٌ حمٌ فو أنتِ يناير فبراير مارس أبريل مايو يونيو يوليو أغسطس سبتمبر أكتوبر نوفمبر ديسمبر جانفي فيفري مارس أفريل ماي جوان جويلية أوت كانون شباط آذار نيسان أيار حزيران تموز آب أيلول تشرين دولار دينار ريال درهم ليرة جنيه قرش مليم فلس هللة سنتيم يورو ين يوان شيكل واحد اثنان ثلاثة أربعة خمسة ستة سبعة ثمانية تسعة عشرة أحد اثنا اثني إحدى ثلاث أربع خمس ست سبع ثماني تسع عشر ثمان سبت أحد اثنين ثلاثاء أربعاء خميس جمعة أول ثان ثاني ثالث رابع خامس سادس سابع ثامن تاسع عاشر حادي أ ب ت ث ج ح خ د ذ ر ز س ش ص ض ط ظ ع غ ف ق ك ل م ن ه و ي ء ى آ ؤ ئ أ ة ألف باء تاء ثاء جيم حاء خاء دال ذال راء زاي سين شين صاد ضاد طاء ظاء عين غين فاء قاف كاف لام ميم نون هاء واو ياء همزة ي نا ك كن ه إياه إياها إياهما إياهم إياهن إياك إياكما إياكم إياك إياكن إياي إيانا أولالك تانِ تانِك تِه تِي تَيْنِ ثمّ ثمّة ذانِ ذِه ذِي ذَيْنِ هَؤلاء هَاتانِ هَاتِه هَاتِي هَاتَيْنِ هَذا هَذانِ هَذِه هَذِي هَذَيْنِ الألى الألاء أل أنّى أيّ ّأيّان أنّى أيّ ّأيّان ذيت كأيّ كأيّن بضع فلان وا آمينَ آهِ آهٍ آهاً أُفٍّ أُفٍّ أفٍّ أمامك أمامكَ أوّهْ إلَيْكَ إلَيْكَ إليكَ إليكنّ إيهٍ بخٍ بسّ بَسْ بطآن بَلْهَ حاي حَذارِ حيَّ حيَّ دونك رويدك سرعان شتانَ شَتَّانَ صهْ صهٍ طاق طَق عَدَسْ كِخ مكانَك مكانَك مكانَك مكانكم مكانكما مكانكنّ نَخْ هاكَ هَجْ هلم هيّا هَيْهات وا واهاً وراءَك وُشْكَانَ وَيْ يفعلان تفعلان يفعلون تفعلون تفعلين اتخذ ألفى تخذ ترك تعلَّم جعل حجا حبيب خال حسب خال درى رأى زعم صبر ظنَّ عدَّ علم غادر ذهب وجد ورد وهب أسكن أطعم أعطى رزق زود سقى كسا أخبر أرى أعلم أنبأ حدَث خبَّر نبَّا أفعل به ما أفعله بئس ساء طالما قلما لات لكنَّ ءَ أجل إذاً أمّا إمّا إنَّ أنًّ أى إى أيا ب ثمَّ جلل جير رُبَّ س علًّ ف كأنّ كلَّا كى ل لات لعلَّ لكنَّ لكنَّ م نَّ هلّا وا أل إلّا ت ك لمّا ن ه و ا ي تجاه تلقاء جميع حسب سبحان شبه لعمر مثل معاذ أبو أخو حمو فو مئة مئتان ثلاثمئة أربعمئة خمسمئة ستمئة سبعمئة ثمنمئة تسعمئة مائة ثلاثمائة أربعمائة خمسمائة ستمائة سبعمائة ثمانمئة تسعمائة عشرون ثلاثون اربعون خمسون ستون سبعون ثمانون تسعون عشرين ثلاثين اربعين خمسين ستين سبعين ثمانين تسعين بضع نيف أجمع جميع عامة عين نفس لا سيما أصلا أهلا أيضا بؤسا بعدا بغتة تعسا حقا حمدا خلافا خاصة دواليك سحقا سرا سمعا صبرا صدقا صراحة طرا عجبا عيانا غالبا فرادى فضلا قاطبة كثيرا لبيك معاذ أبدا إزاء أصلا الآن أمد أمس آنفا آناء أنّى أول أيّان تارة ثمّ ثمّة حقا صباح مساء ضحوة عوض غدا غداة قطّ كلّما لدن لمّا مرّة قبل خلف أمام فوق تحت يمين شمال ارتدّ استحال أصبح أضحى آض أمسى انقلب بات تبدّل تحوّل حار رجع راح صار ظلّ عاد غدا كان ما انفك ما برح مادام مازال مافتئ ابتدأ أخذ اخلولق أقبل انبرى أنشأ أوشك جعل حرى شرع طفق علق قام كرب كاد هبّ\n"
     ]
    }
   ],
   "source": [
    "stopwords_list = stopwords.words('arabic')\n",
    "listToStr = ' '.join([str(elem) for elem in stopwords_list]) \n",
    "print(listToStr)"
   ]
  },
  {
   "cell_type": "code",
   "execution_count": 18,
   "id": "fed633da-2a68-4b1c-a29c-37b24270b516",
   "metadata": {},
   "outputs": [
    {
     "data": {
      "text/html": [
       "<div>\n",
       "<style scoped>\n",
       "    .dataframe tbody tr th:only-of-type {\n",
       "        vertical-align: middle;\n",
       "    }\n",
       "\n",
       "    .dataframe tbody tr th {\n",
       "        vertical-align: top;\n",
       "    }\n",
       "\n",
       "    .dataframe thead th {\n",
       "        text-align: right;\n",
       "    }\n",
       "</style>\n",
       "<table border=\"1\" class=\"dataframe\">\n",
       "  <thead>\n",
       "    <tr style=\"text-align: right;\">\n",
       "      <th></th>\n",
       "      <th>text</th>\n",
       "      <th>targe</th>\n",
       "    </tr>\n",
       "  </thead>\n",
       "  <tbody>\n",
       "    <tr>\n",
       "      <th>0</th>\n",
       "      <td>[استوديوهات, ورزازات, وصحراء, مرزوكه, واثار, و...</td>\n",
       "      <td>0</td>\n",
       "    </tr>\n",
       "    <tr>\n",
       "      <th>1</th>\n",
       "      <td>[قرت, النجمه, الامريكيه, اوبرا, وينفري, الا, ي...</td>\n",
       "      <td>0</td>\n",
       "    </tr>\n",
       "    <tr>\n",
       "      <th>2</th>\n",
       "      <td>[اخبارنا, المغربيه, الوزاني, تصوير, الشملالي, ...</td>\n",
       "      <td>0</td>\n",
       "    </tr>\n",
       "    <tr>\n",
       "      <th>3</th>\n",
       "      <td>[اخبارنا, المغربيه, قال, ابراهيم, الراشدي, محا...</td>\n",
       "      <td>0</td>\n",
       "    </tr>\n",
       "    <tr>\n",
       "      <th>4</th>\n",
       "      <td>[تزال, صناعه, الجلود, المغرب, تبع, الطريقه, ال...</td>\n",
       "      <td>0</td>\n",
       "    </tr>\n",
       "    <tr>\n",
       "      <th>...</th>\n",
       "      <td>...</td>\n",
       "      <td>...</td>\n",
       "    </tr>\n",
       "    <tr>\n",
       "      <th>111723</th>\n",
       "      <td>[اعب, تاخر, العوده, الي, التداريب, والمدرب, غا...</td>\n",
       "      <td>4</td>\n",
       "    </tr>\n",
       "    <tr>\n",
       "      <th>111724</th>\n",
       "      <td>[مشرف, العام, لحسنيه, اكادير, قال, انه, سيغادر...</td>\n",
       "      <td>4</td>\n",
       "    </tr>\n",
       "    <tr>\n",
       "      <th>111725</th>\n",
       "      <td>[نسب, اليه, نتائج, الوداد, وصحوه, الرجاء, واخر...</td>\n",
       "      <td>4</td>\n",
       "    </tr>\n",
       "    <tr>\n",
       "      <th>111726</th>\n",
       "      <td>[ستحتضن, الرباط, الفتره, مابين, يوليوز, المقبل...</td>\n",
       "      <td>4</td>\n",
       "    </tr>\n",
       "    <tr>\n",
       "      <th>111727</th>\n",
       "      <td>[رضخ, احمد, اهمو, رئيس, امل, تيزنيت, لكره, الق...</td>\n",
       "      <td>4</td>\n",
       "    </tr>\n",
       "  </tbody>\n",
       "</table>\n",
       "<p>108789 rows × 2 columns</p>\n",
       "</div>"
      ],
      "text/plain": [
       "                                                     text  targe\n",
       "0       [استوديوهات, ورزازات, وصحراء, مرزوكه, واثار, و...      0\n",
       "1       [قرت, النجمه, الامريكيه, اوبرا, وينفري, الا, ي...      0\n",
       "2       [اخبارنا, المغربيه, الوزاني, تصوير, الشملالي, ...      0\n",
       "3       [اخبارنا, المغربيه, قال, ابراهيم, الراشدي, محا...      0\n",
       "4       [تزال, صناعه, الجلود, المغرب, تبع, الطريقه, ال...      0\n",
       "...                                                   ...    ...\n",
       "111723  [اعب, تاخر, العوده, الي, التداريب, والمدرب, غا...      4\n",
       "111724  [مشرف, العام, لحسنيه, اكادير, قال, انه, سيغادر...      4\n",
       "111725  [نسب, اليه, نتائج, الوداد, وصحوه, الرجاء, واخر...      4\n",
       "111726  [ستحتضن, الرباط, الفتره, مابين, يوليوز, المقبل...      4\n",
       "111727  [رضخ, احمد, اهمو, رئيس, امل, تيزنيت, لكره, الق...      4\n",
       "\n",
       "[108789 rows x 2 columns]"
      ]
     },
     "execution_count": 18,
     "metadata": {},
     "output_type": "execute_result"
    }
   ],
   "source": [
    "clean_df[\"text\"] = clean_df[\"text\"].apply(lambda x: [item for item in x if item not in stopwords_list])\n",
    "clean_df"
   ]
  },
  {
   "cell_type": "code",
   "execution_count": 20,
   "id": "3c0be853-21a1-455e-8839-34ead1fc64b6",
   "metadata": {},
   "outputs": [],
   "source": [
    "clean_df.to_csv('clean_arabic_data.csv')"
   ]
  },
  {
   "cell_type": "code",
   "execution_count": 25,
   "id": "d0768da8-8569-40c7-98d0-b0c1e234641e",
   "metadata": {},
   "outputs": [
    {
     "data": {
      "text/html": [
       "<div>\n",
       "<style scoped>\n",
       "    .dataframe tbody tr th:only-of-type {\n",
       "        vertical-align: middle;\n",
       "    }\n",
       "\n",
       "    .dataframe tbody tr th {\n",
       "        vertical-align: top;\n",
       "    }\n",
       "\n",
       "    .dataframe thead th {\n",
       "        text-align: right;\n",
       "    }\n",
       "</style>\n",
       "<table border=\"1\" class=\"dataframe\">\n",
       "  <thead>\n",
       "    <tr style=\"text-align: right;\">\n",
       "      <th></th>\n",
       "      <th>text</th>\n",
       "    </tr>\n",
       "  </thead>\n",
       "  <tbody>\n",
       "    <tr>\n",
       "      <th>0</th>\n",
       "      <td>[استوديوهات, ورزازات, وصحراء, مرزوكه, واثار, و...</td>\n",
       "    </tr>\n",
       "    <tr>\n",
       "      <th>1</th>\n",
       "      <td>[قرت, النجمه, الامريكيه, اوبرا, وينفري, الا, ي...</td>\n",
       "    </tr>\n",
       "    <tr>\n",
       "      <th>2</th>\n",
       "      <td>[اخبارنا, المغربيه, الوزاني, تصوير, الشملالي, ...</td>\n",
       "    </tr>\n",
       "    <tr>\n",
       "      <th>3</th>\n",
       "      <td>[اخبارنا, المغربيه, قال, ابراهيم, الراشدي, محا...</td>\n",
       "    </tr>\n",
       "    <tr>\n",
       "      <th>4</th>\n",
       "      <td>[تزال, صناعه, الجلود, المغرب, تبع, الطريقه, ال...</td>\n",
       "    </tr>\n",
       "    <tr>\n",
       "      <th>...</th>\n",
       "      <td>...</td>\n",
       "    </tr>\n",
       "    <tr>\n",
       "      <th>111723</th>\n",
       "      <td>[اعب, تاخر, العوده, الي, التداريب, والمدرب, غا...</td>\n",
       "    </tr>\n",
       "    <tr>\n",
       "      <th>111724</th>\n",
       "      <td>[مشرف, العام, لحسنيه, اكادير, قال, انه, سيغادر...</td>\n",
       "    </tr>\n",
       "    <tr>\n",
       "      <th>111725</th>\n",
       "      <td>[نسب, اليه, نتائج, الوداد, وصحوه, الرجاء, واخر...</td>\n",
       "    </tr>\n",
       "    <tr>\n",
       "      <th>111726</th>\n",
       "      <td>[ستحتضن, الرباط, الفتره, مابين, يوليوز, المقبل...</td>\n",
       "    </tr>\n",
       "    <tr>\n",
       "      <th>111727</th>\n",
       "      <td>[رضخ, احمد, اهمو, رئيس, امل, تيزنيت, لكره, الق...</td>\n",
       "    </tr>\n",
       "  </tbody>\n",
       "</table>\n",
       "<p>108789 rows × 1 columns</p>\n",
       "</div>"
      ],
      "text/plain": [
       "                                                     text\n",
       "0       [استوديوهات, ورزازات, وصحراء, مرزوكه, واثار, و...\n",
       "1       [قرت, النجمه, الامريكيه, اوبرا, وينفري, الا, ي...\n",
       "2       [اخبارنا, المغربيه, الوزاني, تصوير, الشملالي, ...\n",
       "3       [اخبارنا, المغربيه, قال, ابراهيم, الراشدي, محا...\n",
       "4       [تزال, صناعه, الجلود, المغرب, تبع, الطريقه, ال...\n",
       "...                                                   ...\n",
       "111723  [اعب, تاخر, العوده, الي, التداريب, والمدرب, غا...\n",
       "111724  [مشرف, العام, لحسنيه, اكادير, قال, انه, سيغادر...\n",
       "111725  [نسب, اليه, نتائج, الوداد, وصحوه, الرجاء, واخر...\n",
       "111726  [ستحتضن, الرباط, الفتره, مابين, يوليوز, المقبل...\n",
       "111727  [رضخ, احمد, اهمو, رئيس, امل, تيزنيت, لكره, الق...\n",
       "\n",
       "[108789 rows x 1 columns]"
      ]
     },
     "execution_count": 25,
     "metadata": {},
     "output_type": "execute_result"
    }
   ],
   "source": [
    "clean_df.drop(['targe'], axis=1)"
   ]
  },
  {
   "cell_type": "code",
   "execution_count": 26,
   "id": "528745eb-1a13-4e6b-8a8c-69c470967bf3",
   "metadata": {},
   "outputs": [],
   "source": [
    "clean_df.to_csv('clear_arabic_words_.csv')"
   ]
  },
  {
   "cell_type": "markdown",
   "id": "42ae2064-530c-4ee2-bdc6-d68d6c1ed7b3",
   "metadata": {},
   "source": [
    "## Training"
   ]
  },
  {
   "cell_type": "code",
   "execution_count": 2,
   "id": "2404e302-1a0c-48cf-80a7-e9a0d4df1d32",
   "metadata": {},
   "outputs": [],
   "source": [
    "df = pd.read_csv('clear_arabic_words_.csv')"
   ]
  },
  {
   "cell_type": "code",
   "execution_count": 4,
   "id": "1d84e534-7131-4489-8654-3c6668537854",
   "metadata": {},
   "outputs": [],
   "source": [
    "df = df[:10]"
   ]
  },
  {
   "cell_type": "code",
   "execution_count": 5,
   "id": "28957c19-adbf-49db-9dbd-7a1878647174",
   "metadata": {},
   "outputs": [
    {
     "name": "stdout",
     "output_type": "stream",
     "text": [
      "<class 'pandas.core.frame.DataFrame'>\n",
      "RangeIndex: 10 entries, 0 to 9\n",
      "Data columns (total 3 columns):\n",
      " #   Column      Non-Null Count  Dtype \n",
      "---  ------      --------------  ----- \n",
      " 0   Unnamed: 0  10 non-null     int64 \n",
      " 1   text        10 non-null     object\n",
      " 2   targe       10 non-null     int64 \n",
      "dtypes: int64(2), object(1)\n",
      "memory usage: 368.0+ bytes\n"
     ]
    }
   ],
   "source": [
    "df.info()"
   ]
  },
  {
   "cell_type": "code",
   "execution_count": 6,
   "id": "54a89c9f-3e6c-4ffc-a168-bd612a1525a2",
   "metadata": {},
   "outputs": [],
   "source": [
    "df.to_csv('test_data_arabic.csv')"
   ]
  },
  {
   "cell_type": "code",
   "execution_count": 7,
   "id": "1d74b0aa-6de3-4a95-b0f0-602d6ab7e969",
   "metadata": {},
   "outputs": [],
   "source": [
    "model = fasttext.train_unsupervised('test_data_arabic.csv','skipgram')"
   ]
  },
  {
   "cell_type": "code",
   "execution_count": 8,
   "id": "44b6a30a-8a12-4eb9-9b8f-ec6755d63135",
   "metadata": {},
   "outputs": [
    {
     "data": {
      "text/plain": [
       "[\"'علي',\",\n",
       " \"'ان',\",\n",
       " \"'الي',\",\n",
       " \"'زينه',\",\n",
       " '</s>',\n",
       " \"'عز',\",\n",
       " \"'انها',\",\n",
       " \"'باي',\",\n",
       " \"'الفيلم',\",\n",
       " \"'حول',\",\n",
       " \"'الجمهور',\",\n",
       " \"'الجلود',\",\n",
       " \"'احمد',\",\n",
       " \"'يتم',\",\n",
       " \"'الامر',\",\n",
       " \"'القصيره',\",\n",
       " \"'المغرب',\",\n",
       " \"'الدوره',\",\n",
       " \"'بالمغرب',\",\n",
       " \"'الفنان',\",\n",
       " \"'عده',\",\n",
       " \"'الجلد',\",\n",
       " \"'او',\",\n",
       " \"'كبير',\",\n",
       " \"'طنجه',\",\n",
       " \"'المغربيه',\",\n",
       " \"'الثنائي',\",\n",
       " \"'قائله',\",\n",
       " \"'القصه',\",\n",
       " \"'يوم',\",\n",
       " \"'اجل',\"]"
      ]
     },
     "execution_count": 8,
     "metadata": {},
     "output_type": "execute_result"
    }
   ],
   "source": [
    "model.words"
   ]
  },
  {
   "cell_type": "code",
   "execution_count": 11,
   "id": "15217df7-d11e-400d-ac33-da8f4023fef6",
   "metadata": {},
   "outputs": [
    {
     "data": {
      "text/plain": [
       "array([ 2.12028087e-03, -5.20767504e-03,  1.40864765e-02, -7.18069356e-03,\n",
       "       -1.10309426e-04,  8.83226469e-03,  8.19682330e-03, -6.79837307e-03,\n",
       "        3.12837190e-03,  1.32433549e-02, -1.30541045e-02,  1.46159763e-03,\n",
       "        2.89452984e-03,  1.00224866e-02,  9.65427607e-03,  1.04600489e-02,\n",
       "       -7.02222809e-03, -3.34338471e-03,  5.26252389e-03,  1.35787744e-02,\n",
       "        1.55958941e-03, -3.86870606e-03, -6.55962480e-03,  1.67047745e-03,\n",
       "        1.11163768e-03,  1.35908006e-02,  1.09178293e-03, -7.83561409e-05,\n",
       "       -1.10299569e-02, -7.90364458e-04, -2.37275404e-03, -6.54473063e-03,\n",
       "       -5.51900640e-03,  1.70481147e-03, -1.28492415e-02,  1.34592764e-02,\n",
       "       -7.33614434e-03,  1.89285155e-03, -1.08948741e-02, -1.75955775e-03,\n",
       "        1.34528696e-03,  1.76131651e-02,  9.26143862e-03, -6.69196341e-03,\n",
       "        1.73279666e-03, -4.81681991e-03,  1.08280051e-02,  3.01159895e-03,\n",
       "       -6.13767421e-04,  1.17161125e-02, -1.33625735e-02,  5.56377787e-03,\n",
       "        6.57630328e-04,  6.08371478e-03,  1.11980531e-02, -9.59323999e-03,\n",
       "       -1.57952530e-03,  2.64188810e-03,  5.12523390e-03, -3.13413306e-03,\n",
       "        3.41106846e-04,  9.47728474e-03,  3.30894254e-04,  5.76393632e-03,\n",
       "        5.07039577e-03,  7.40896491e-03,  2.48419296e-04, -8.83245654e-03,\n",
       "        9.14730877e-03, -3.02970014e-03,  3.98383796e-04, -1.26428232e-02,\n",
       "       -2.07145177e-02,  1.41166896e-03, -2.02628755e-04, -4.61801887e-03,\n",
       "       -9.36188735e-03, -6.55860920e-03,  1.60606322e-03, -7.62786483e-03,\n",
       "        1.79238466e-03,  1.48552675e-02,  1.41943758e-03,  6.42923359e-03,\n",
       "       -3.29426653e-03, -6.98682107e-03,  4.67413524e-03,  2.39250483e-03,\n",
       "       -1.98324327e-03,  1.16032083e-02,  1.38191609e-02, -1.82843115e-03,\n",
       "        8.31286889e-03, -1.67530298e-03,  1.01001924e-02, -9.79623571e-03,\n",
       "        8.20887275e-03, -6.50212308e-03, -1.86222594e-03, -9.40577406e-03],\n",
       "      dtype=float32)"
      ]
     },
     "execution_count": 11,
     "metadata": {},
     "output_type": "execute_result"
    }
   ],
   "source": [
    "model.get_word_vector(\"يوم\")"
   ]
  },
  {
   "cell_type": "code",
   "execution_count": 13,
   "id": "96df58a6-ddfb-466b-bd62-eb432f05cf6c",
   "metadata": {},
   "outputs": [],
   "source": [
    "## save model \n",
    "model.save_model(\"models/Fasttext.bin\")\n"
   ]
  },
  {
   "cell_type": "code",
   "execution_count": 15,
   "id": "484828e5-45ab-4ab2-82bf-f40f18b86274",
   "metadata": {},
   "outputs": [],
   "source": [
    "# load model\n",
    "#model = fasttext.load_model(\"models/Fasttext.bin\")"
   ]
  },
  {
   "cell_type": "code",
   "execution_count": null,
   "id": "69d50804-26cd-4680-98eb-d716ade59370",
   "metadata": {},
   "outputs": [],
   "source": []
  }
 ],
 "metadata": {
  "kernelspec": {
   "display_name": "Python 3",
   "language": "python",
   "name": "python3"
  },
  "language_info": {
   "codemirror_mode": {
    "name": "ipython",
    "version": 3
   },
   "file_extension": ".py",
   "mimetype": "text/x-python",
   "name": "python",
   "nbconvert_exporter": "python",
   "pygments_lexer": "ipython3",
   "version": "3.8.8"
  }
 },
 "nbformat": 4,
 "nbformat_minor": 5
}
